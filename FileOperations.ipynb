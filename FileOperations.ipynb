{
 "cells": [
  {
   "cell_type": "code",
   "execution_count": 17,
   "metadata": {},
   "outputs": [
    {
     "name": "stdout",
     "output_type": "stream",
     "text": [
      "<built-in method read of _io.TextIOWrapper object at 0x000001C13CF1A908>\n"
     ]
    }
   ],
   "source": [
    "with open (\"Example1.txt\", \"r\") as file1:\n",
    "    FileContent=file1.read\n",
    "    file1.close()\n",
    "    print(FileContent)"
   ]
  },
  {
   "cell_type": "code",
   "execution_count": 21,
   "metadata": {},
   "outputs": [
    {
     "name": "stdout",
     "output_type": "stream",
     "text": [
      "This is line1\n",
      "This is line2\n",
      "This is line3\n"
     ]
    }
   ],
   "source": [
    "#Opens the file and prints All the contents\n",
    "with open (\"Example1.txt\", \"r\") as file1:\n",
    "   FileContent=file1.read()\n",
    "print(FileContent)"
   ]
  },
  {
   "cell_type": "code",
   "execution_count": 27,
   "metadata": {},
   "outputs": [
    {
     "name": "stdout",
     "output_type": "stream",
     "text": [
      "This is line1\n",
      "\n",
      "This is line2\n",
      "\n"
     ]
    }
   ],
   "source": [
    "#Opens the file and prints two lines\n",
    "with open (\"Example1.txt\", \"r\") as file1:\n",
    "    for n in range(0,2):\n",
    "        FileContent=file1.readline()\n",
    "        print(FileContent)"
   ]
  },
  {
   "cell_type": "code",
   "execution_count": 38,
   "metadata": {},
   "outputs": [
    {
     "name": "stdout",
     "output_type": "stream",
     "text": [
      "['This is line1\\n', 'This is line2\\n', 'This is line3']\n"
     ]
    }
   ],
   "source": [
    "with open(\"Example1.txt\", \"r\") as file1:\n",
    "    FileContent=file1.readlines()\n",
    "    print(FileContent)"
   ]
  },
  {
   "cell_type": "code",
   "execution_count": 60,
   "metadata": {},
   "outputs": [],
   "source": [
    "####Write to a File#####\n",
    "with open(\"Example2.txt\",\"a\") as File1:\n",
    "    line=\"This is line F \\n\"\n",
    "    File1.write(line)   "
   ]
  },
  {
   "cell_type": "code",
   "execution_count": 61,
   "metadata": {},
   "outputs": [
    {
     "name": "stdout",
     "output_type": "stream",
     "text": [
      "This is line BThis is line CThis is line D /nThis is line E \n",
      "This is line F \n",
      "This is line F \n",
      "This is line F \n",
      "\n"
     ]
    }
   ],
   "source": [
    "with open(\"Example2.txt\",\"r\") as File2:\n",
    "    FileContent2=File2.read()\n",
    "    print(FileContent2)"
   ]
  },
  {
   "cell_type": "code",
   "execution_count": 62,
   "metadata": {},
   "outputs": [
    {
     "data": {
      "text/plain": [
       "['line one \\n', 'line two \\n', 'line three \\n']"
      ]
     },
     "execution_count": 62,
     "metadata": {},
     "output_type": "execute_result"
    }
   ],
   "source": [
    "#write list to a file\n",
    "lista=[\"line one \\n\", \"line two \\n\", \"line three \\n\"]\n",
    "lista"
   ]
  },
  {
   "cell_type": "code",
   "execution_count": 66,
   "metadata": {},
   "outputs": [],
   "source": [
    "with open(\"Example3.txt\", \"w\") as File3:\n",
    "    for line in lista:\n",
    "        File3.write(line)\n"
   ]
  },
  {
   "cell_type": "code",
   "execution_count": 67,
   "metadata": {},
   "outputs": [
    {
     "name": "stdout",
     "output_type": "stream",
     "text": [
      "line one \n",
      "line two \n",
      "line three \n",
      "\n"
     ]
    }
   ],
   "source": [
    "with open(\"Example3.txt\", \"r\") as File4:\n",
    "    FileContent4=File4.read()\n",
    "    print(FileContent4)"
   ]
  },
  {
   "cell_type": "code",
   "execution_count": 74,
   "metadata": {},
   "outputs": [],
   "source": [
    "#Write to file on Amazon S3\n",
    "with open('Example4.txt','w') as wrtfile:\n",
    "    wrtfile.write(\"Wrote this line 1 /n\")\n"
   ]
  },
  {
   "cell_type": "code",
   "execution_count": null,
   "metadata": {},
   "outputs": [],
   "source": []
  }
 ],
 "metadata": {
  "kernelspec": {
   "display_name": "Python 3",
   "language": "python",
   "name": "python3"
  },
  "language_info": {
   "codemirror_mode": {
    "name": "ipython",
    "version": 3
   },
   "file_extension": ".py",
   "mimetype": "text/x-python",
   "name": "python",
   "nbconvert_exporter": "python",
   "pygments_lexer": "ipython3",
   "version": "3.7.6"
  }
 },
 "nbformat": 4,
 "nbformat_minor": 4
}
